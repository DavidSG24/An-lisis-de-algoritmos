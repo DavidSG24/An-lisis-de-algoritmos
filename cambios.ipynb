{
 "cells": [
  {
   "cell_type": "markdown",
   "id": "139176b5",
   "metadata": {},
   "source": [
    "# Cambios realizados en los reportes para la unidad de **Análisis de algoritmos 2025-1**"
   ]
  },
  {
   "cell_type": "markdown",
   "id": "3b0487d2",
   "metadata": {},
   "source": [
    "# Reporte 1: Experimentos y análisis\n",
    "\n",
    "1. Aunque en las observaciones se sugiere eliminar las instrucciones de la actividad, se ha decidido mantenerlas debido a que proporcionan un marco de referencia útil para comprender el enfoque del trabajo desarrollado.\n",
    "\n",
    "2. La redacción fue corregida mediante la eliminación del exceso de viñetas y la reestructuración del contenido en párrafos coherentes, lo que mejora la continuidad y claridad del texto.\n",
    "\n",
    "3. Las conclusiones fueron replanteadas con el fin de reducir la dependencia de citas textuales y fortalecer el análisis propio.\n",
    "\n",
    "4. Las referencias bibliográficas fueron ordenadas alfabéticamente conforme a los lineamientos establecidos.\n",
    "\n",
    "5. Se reestructuraron los títulos, encabezados y secciones para asegurar una presentación uniforme y acorde al formato requerido para el reporte.\n",
    "\n",
    "---"
   ]
  },
  {
   "cell_type": "markdown",
   "id": "de46eb5e",
   "metadata": {},
   "source": [
    "# Reporte 2: Experimentos y análisis de estructuras de datos.\n",
    "\n",
    "1. El algoritmo merge_sort fue reescrito para optimizar su eficiencia. En lugar de utilizar múltiples copias de sublistas, se implementó una versión in-place que opera mediante el uso de índices y una lista auxiliar. Esta modificación reduce significativamente el uso de memoria y mejora el rendimiento, especialmente al trabajar con listas de gran tamaño.\n",
    "\n",
    "2. En el caso de bubble_sort, se introdujo una mejora adaptativa que permite detener la ejecución anticipadamente cuando no se detectan intercambios durante una pasada completa. Esta optimización disminuye considerablemente el tiempo de ejecución en listas que ya se encuentran ordenadas, logrando un mejor caso con complejidad O(n).\n",
    "\n",
    "3. Para quick_sort, se modificó la lógica de selección del pivote, incorporando una estrategia aleatoria. Esta elección reduce el riesgo de caer en el peor caso con complejidad O(n²) al procesar listas parcialmente ordenadas, lo que se traduce en un rendimiento más estable y eficiente en la práctica.\n",
    "\n",
    "---"
   ]
  },
  {
   "cell_type": "markdown",
   "id": "a52037ba",
   "metadata": {},
   "source": [
    "# Reporte 3: Experimentos y análisis de algoritmos de ordenamiento.\n",
    "\n",
    "1. En este reporte no se realizaron observaciones específicas relacionadas con el contenido técnico. No obstante, se atendieron recomendaciones sobre la presentación formal del documento. Por ello, se reestructuraron los títulos, encabezados y secciones con el objetivo de asegurar una organización clara, coherente y adecuada al formato requerido."
   ]
  },
  {
   "cell_type": "markdown",
   "id": "34ea185e",
   "metadata": {},
   "source": [
    "# Reporte 4: Experimentos y análisis de algoritmos de búsqueda por comparación.\n",
    "\n",
    "1. La función search_with_skiplist fue corregida para aprovechar la estructura jerárquica de la SkipList. Se agregó el método buscar() a la clase SkipListOrden, y ahora la búsqueda se realiza con eficiencia O(log n), diferenciándose de la búsqueda secuencial. Las referencias teóricas se citaron correctamente.\n",
    "\n",
    "2. Se añadió la referencia al artículo de Bentley & Yao (1976), la cual se incorporó en el análisis de los algoritmos no acotados, fortaleciendo el respaldo académico del reporte.\n",
    "\n",
    "3. Se reestructuraron los títulos, encabezados y secciones para asegurar una presentación clara y acorde al formato establecido."
   ]
  },
  {
   "cell_type": "markdown",
   "id": "0b9466e7",
   "metadata": {},
   "source": [
    "# Reporte 5: Algoritmos de intersección y unión de conjuntos en el modelo de comparación\n",
    "\n",
    "Este reporte fue entregado al mismo tiempo que el presente sitio por lo cual aun no cuenta con observaciones."
   ]
  },
  {
   "cell_type": "markdown",
   "id": "54c405f6",
   "metadata": {},
   "source": [
    "# **Nota.**\n",
    "\n",
    "Los cambios en cuanto a código se ven reflejados sobre cada reporte al tener las funciones con observaciones comentadas para visualizar versiones anteriores."
   ]
  }
 ],
 "metadata": {
  "language_info": {
   "name": "python"
  }
 },
 "nbformat": 4,
 "nbformat_minor": 5
}
