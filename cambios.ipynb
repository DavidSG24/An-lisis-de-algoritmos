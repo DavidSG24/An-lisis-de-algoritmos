{
 "cells": [
  {
   "cell_type": "markdown",
   "id": "de46eb5e",
   "metadata": {},
   "source": [
    "# Cambios Realizados en Algoritmos de Ordenamiento del reporte 2\n",
    "\n",
    "## 1. `merge_sort`\n",
    "**Cambio:**  \n",
    "Reescrito para evitar copias innecesarias, usando una versión in-place con índices y lista auxiliar.\n",
    "\n",
    "**Mejora:**  \n",
    "- Menor uso de memoria.\n",
    "- Mejor rendimiento en listas grandes.\n",
    "\n",
    "## 2. `bubble_sort`\n",
    "**Cambio:**  \n",
    "Ahora es adaptativo: se detiene si no hubo intercambios en una pasada.\n",
    "\n",
    "**Mejora:**  \n",
    "- Menor tiempo en listas ya ordenadas.\n",
    "- Mejor caso reducido a O(n).\n",
    "\n",
    "## 3. `quick_sort`\n",
    "**Cambio:**  \n",
    "Se implementó selección de pivote aleatorio.\n",
    "\n",
    "**Mejora:**  \n",
    "- Menor riesgo del peor caso O(n²).\n",
    "- Rendimiento más estable en listas con orden parcial.\n",
    "\n",
    "\n",
    "---\n",
    "\n"
   ]
  },
  {
   "cell_type": "markdown",
   "id": "34ea185e",
   "metadata": {},
   "source": [
    "## Cambio en `search_with_skiplist` para uso correcto de SkipList del reporte 4\n",
    "\n",
    "### 1. La función `search_with_skiplist` realizaba una búsqueda secuencial sobre una lista ordenada, ignorando la estructura jerárquica de la SkipList.\n",
    "\n",
    "**Cambio:**  \n",
    "-  Se agregó el método `buscar()` a la clase `SkipListOrden` para usar los niveles de la estructura en la búsqueda.\n",
    "- `search_with_skiplist` ahora llama directamente a `buscar()`.\n",
    "\n",
    "**Mejora:**  \n",
    "La SkipList ahora funciona correctamente con eficiencia O(log n) y se diferencia claramente de la búsqueda secuencial. Además, las referencias teóricas están completas y correctamente citadas.\n",
    "\n",
    "### Ausencia de la referencia al artículo de B&Y.\n",
    "\n",
    "**Cambio:**  \n",
    "- Se incluyó en las referencias el artículo de Bentley & Yao (1976), y se citó en el análisis de los algoritmos no acotados."
   ]
  },
  {
   "cell_type": "markdown",
   "id": "54c405f6",
   "metadata": {},
   "source": [
    "Asi mismo, los cambios en cuanto a código se ven reflejados sobre el reporte al tener las funciones con observaciones comentadas para vizualizar versiones anteriores."
   ]
  }
 ],
 "metadata": {
  "language_info": {
   "name": "python"
  }
 },
 "nbformat": 4,
 "nbformat_minor": 5
}
